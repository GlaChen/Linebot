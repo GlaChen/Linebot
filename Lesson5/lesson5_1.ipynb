{
 "cells": [
  {
   "cell_type": "code",
   "execution_count": 2,
   "id": "e428032e",
   "metadata": {},
   "outputs": [
    {
     "name": "stdout",
     "output_type": "stream",
     "text": [
      "💬 AI 回應：\n",
      "{'model': 'gemma3:1b', 'created_at': '2025-07-26T03:48:40.521846004Z', 'response': '{ \\n    \"Python 函式就像是程式碼的指令，告訴程式執行什麼動作。 就像一個步驟，你需要按照步驟來完成任務。 每個函式都有一個名稱，而且可以重複執行多次，就像重複執行步驟一樣。\":\\n\\n    \"簡單來說，程式碼被分解成小塊，每個塊都是一個函式。 函式會根據你輸入的資料，執行特定的操作，然後產生結果。 像是計算一個數字，寫一篇故事，或是做一些簡單的計算，程式碼就是透過函式來完成的。\"\\n\\n    \\n    \\n    \\n    \\n}', 'done': True, 'done_reason': 'stop', 'context': [105, 2364, 107, 239230, 237105, 74624, 48280, 185411, 26549, 237026, 32651, 236918, 238780, 237522, 237536, 106, 107, 105, 4368, 107, 236782, 236743, 107, 140, 236775, 32651, 236743, 238780, 237522, 55326, 237026, 47972, 240897, 236918, 81582, 236900, 146132, 47972, 78204, 26549, 70190, 236924, 236743, 55326, 19966, 167951, 236900, 212051, 39974, 167951, 237967, 19843, 152807, 236924, 236743, 117680, 238780, 237522, 36144, 19966, 119406, 236900, 22579, 5157, 174322, 78204, 82092, 236900, 55326, 174322, 78204, 167951, 59246, 236924, 1083, 108, 140, 236775, 74624, 94757, 236900, 47972, 240897, 237759, 68653, 237283, 237369, 241610, 236900, 117680, 241610, 15310, 19966, 238780, 237522, 236924, 236743, 238780, 237522, 238003, 99647, 237408, 62588, 236918, 41368, 236900, 78204, 172612, 17553, 236900, 42888, 125716, 27654, 236924, 236743, 95714, 44068, 19966, 210921, 236900, 240564, 220919, 35623, 236900, 67375, 237893, 18303, 74624, 236918, 44068, 236900, 47972, 240897, 7888, 87941, 238780, 237522, 237967, 19843, 236918, 165220, 108, 140, 107, 140, 107, 140, 107, 140, 107, 236783], 'total_duration': 27292587582, 'load_duration': 10115801110, 'prompt_eval_count': 21, 'prompt_eval_duration': 779071711, 'eval_count': 133, 'eval_duration': 16068696973}\n",
      "{ \n",
      "    \"Python 函式就像是程式碼的指令，告訴程式執行什麼動作。 就像一個步驟，你需要按照步驟來完成任務。 每個函式都有一個名稱，而且可以重複執行多次，就像重複執行步驟一樣。\":\n",
      "\n",
      "    \"簡單來說，程式碼被分解成小塊，每個塊都是一個函式。 函式會根據你輸入的資料，執行特定的操作，然後產生結果。 像是計算一個數字，寫一篇故事，或是做一些簡單的計算，程式碼就是透過函式來完成的。\"\n",
      "\n",
      "    \n",
      "    \n",
      "    \n",
      "    \n",
      "}\n"
     ]
    }
   ],
   "source": [
    "import requests #requests是一個工具庫，用於發送HTTP請求。如果沒有安裝，請使用命令：pip install requests。\n",
    "\n",
    "def chat_with_ollama(prompt: str):\n",
    "    url = \"http://localhost:11434/api/generate\"\n",
    "    payload = {\n",
    "        \"model\": \"gemma3:1b\",\n",
    "        \"prompt\": prompt,\n",
    "        \"stream\": False,\n",
    "        \"options\": { #參考說明1\n",
    "            \"temperature\": 0.7,\n",
    "            \"top_p\": 0.9,\n",
    "            \"top_k\": 50,\n",
    "        },\n",
    "        \"max_tokens\": 100,\n",
    "        \"format\": \"json\",\n",
    "    }\n",
    "\n",
    "    response = requests.post(url, json=payload)\n",
    "    result = response.json()\n",
    "    print(\"💬 AI 回應：\")\n",
    "    # Print the whole result for debugging\n",
    "    print(result)\n",
    "    # Try to print the 'response' key if it exists, otherwise print possible keys\n",
    "    if \"response\" in result:\n",
    "        print(result[\"response\"])\n",
    "    elif \"message\" in result:\n",
    "        print(result[\"message\"])\n",
    "    elif \"content\" in result:\n",
    "        print(result[\"content\"])\n",
    "    else:\n",
    "        print(\"No expected key found in response. Available keys:\", result.keys())\n",
    "\n",
    "#範例輸入\n",
    "chat_with_ollama(\"請用簡單的方式解釋什麼是Python的函式？\")"
   ]
  },
  {
   "cell_type": "code",
   "execution_count": null,
   "id": "91de1c52",
   "metadata": {},
   "outputs": [
    {
     "name": "stdout",
     "output_type": "stream",
     "text": [
      "歡迎使用本地端 LLM 聊天機器人（輸入 q 離開）\n",
      "💬 AI 回應：\n",
      "{\n",
      "    \"我是一个大型语言模型，由 Google 训练。我是一个人工智能程序，旨在根据接收到的文本进行对话和生成文本。我没有个人身份或意识，我是一个工具，旨在帮助人们完成各种任务。\":\n",
      "\n",
      "    {\n",
      "        \"我是由 Google 训练的。我是一个人工智能程序，旨在根据接收到的文本进行对话和生成文本。我没有个人身份或意识，我是一个工具，旨在帮助人们完成各种任务。\":\" 完整解释。 这是一个关于我身份和功能的简要说明。 换句话说，我是一个人工智能助手，可以理解和生成文本。我是一个由 Google 开发的工具。 我没有自己的想法或感受，我只是根据训练数据来生成文本。\"\n",
      "    }\n",
      "}\n"
     ]
    }
   ],
   "source": [
    "import requests\n",
    "def chat_with_ollama(prompt: str):\n",
    "    url = \"http://localhost:11434/api/generate\"\n",
    "    payload = {\n",
    "        \"model\": \"gemma3:1b\",\n",
    "        \"prompt\": prompt,\n",
    "        \"stream\": False,\n",
    "        \"options\": { #參考說明1\n",
    "            \"temperature\": 0.7, #溫度控制生成文本的隨機性，值越大(1)，生成內文越隨機；值越小(0.1)，生成內文越穩定。\n",
    "            \"top_p\": 0.9, #top_p是另一種控制隨機性的方法，值越大(0.9)，生成內文越集中；值越小(0.1)，生成內文越分散。\n",
    "            \"top_k\": 50, #top_k限制選擇範圍，值越大(50)，生成內文越多樣化；值越小(10)，生成內文越集中。\n",
    "        },\n",
    "        \"max_tokens\": 100,\n",
    "        \"format\": \"json\",\n",
    "    }\n",
    "\n",
    "    response = requests.post(url, json=payload) #混合呼叫，前面一定是引數值呼叫且一定要依照順序，後面都是引數名稱呼叫\n",
    "    result = response.json()\n",
    "    print(\"💬 AI 回應：\")\n",
    "    # Print the whole result for debugging\n",
    "    #print(result)\n",
    "    # Try to print the 'response' key if it exists, otherwise print possible keys\n",
    "    if \"response\" in result:\n",
    "        print(result[\"response\"])\n",
    "    elif \"message\" in result:\n",
    "        print(result[\"message\"])\n",
    "    elif \"content\" in result:\n",
    "        print(result[\"content\"])\n",
    "    else:\n",
    "        print(\"No expected key found in response. Available keys:\", result.keys())\n",
    "\n",
    "    \n",
    "def chat_loop():\n",
    "    print(\"歡迎使用本地端 LLM 聊天機器人（輸入 q 離開）\")\n",
    "    while True:\n",
    "        user_input = input(\"👤 你說：\")\n",
    "        if user_input.lower() == 'q':\n",
    "            break\n",
    "        chat_with_ollama(user_input)\n",
    "\n",
    "chat_loop()"
   ]
  },
  {
   "cell_type": "code",
   "execution_count": 13,
   "id": "86802a76",
   "metadata": {},
   "outputs": [
    {
     "name": "stdout",
     "output_type": "stream",
     "text": [
      "<Response [200]>\n",
      "<class 'requests.models.Response'>\n",
      "成功連接到網站！\n",
      "網站內容： <!doctype html>\n",
      "<html>\n",
      "<head>\n",
      "    <title>Example Domain</title>\n",
      "\n",
      "    <meta charset=\"utf-8\" />\n",
      "    <m\n"
     ]
    }
   ],
   "source": [
    "import requests\n",
    "\n",
    "response = requests.get(\"https://www.example.com\")\n",
    "print(response)  # 確認 response 的內容\n",
    "print(type(response))  # 確認 response 的類型\n",
    "if response.status_code == 200:\n",
    "    print(\"成功連接到網站！\")\n",
    "    print(\"網站內容：\", response.text[:100])  # 只顯示前100個字元\n"
   ]
  },
  {
   "cell_type": "code",
   "execution_count": 28,
   "id": "7cabd527",
   "metadata": {},
   "outputs": [
    {
     "name": "stdout",
     "output_type": "stream",
     "text": [
      "連線成功\n",
      "想像一下，Python 的函式就像是**小工具**，你可以用它們來做一些特定的事情。\n",
      "\n",
      "**簡單來說，函式是你在 Python 程式裡可以重複執行的一段程式碼。**  這些程式碼可以執行任何事情，例如：\n",
      "\n",
      "* **計算:** 例如，計算一個數字，或者運算兩個數。\n",
      "* **處理資料:** 例如，讀取一個文件，或者顯示一個訊息。\n",
      "* **操作資料:** 例如，修改一個資料的價值。\n",
      "* **做某些任務:** 例如，寫一個列表，或者創建一個圖形。\n",
      "\n",
      "**這裡有一些關鍵點：**\n",
      "\n",
      "* **定義函式:** 你可以用 `def` 語法來定義新的函式。\n",
      "* **參數:**  函式可以接受一些參數，就像你給函數的訊息，讓它知道如何處理資料。\n",
      "* **返回值:**  函式可以返回一個結果，這可以幫助你檢查程式是否成功完成。\n",
      "* **循環:**  你可以寫一個函式來重複執行一段程式碼幾次。\n",
      "\n",
      "**例子:**\n",
      "\n",
      "```python\n",
      "def greet(name):\n",
      "  \"\"\"這個函式會說你好\"\"\"\n",
      "  print(\"Hello, \" + name + \"!\")\n",
      "\n",
      "greet(\"Alice\")  # 呼叫函式，會顯示 \"Hello, Alice!\"\n",
      "```\n",
      "\n",
      "在這個例子中，`greet` 是一個函式，它接受一個參數 `name`，然後在輸出中顯示「Hello, Alice！」。\n",
      "\n",
      "**總之，函式是 Python 程式碼中很重要的組成部分，它們讓你可以在程式中做重複性的任務，讓程式更易於使用和維護。**\n",
      "\n",
      "希望這個解釋對你有幫助！\n",
      "\n"
     ]
    },
    {
     "data": {
      "text/markdown": [
       "想像一下，Python 的函式就像是**小工具**，你可以用它們來做一些特定的事情。\n",
       "\n",
       "**簡單來說，函式是你在 Python 程式裡可以重複執行的一段程式碼。**  這些程式碼可以執行任何事情，例如：\n",
       "\n",
       "* **計算:** 例如，計算一個數字，或者運算兩個數。\n",
       "* **處理資料:** 例如，讀取一個文件，或者顯示一個訊息。\n",
       "* **操作資料:** 例如，修改一個資料的價值。\n",
       "* **做某些任務:** 例如，寫一個列表，或者創建一個圖形。\n",
       "\n",
       "**這裡有一些關鍵點：**\n",
       "\n",
       "* **定義函式:** 你可以用 `def` 語法來定義新的函式。\n",
       "* **參數:**  函式可以接受一些參數，就像你給函數的訊息，讓它知道如何處理資料。\n",
       "* **返回值:**  函式可以返回一個結果，這可以幫助你檢查程式是否成功完成。\n",
       "* **循環:**  你可以寫一個函式來重複執行一段程式碼幾次。\n",
       "\n",
       "**例子:**\n",
       "\n",
       "```python\n",
       "def greet(name):\n",
       "  \"\"\"這個函式會說你好\"\"\"\n",
       "  print(\"Hello, \" + name + \"!\")\n",
       "\n",
       "greet(\"Alice\")  # 呼叫函式，會顯示 \"Hello, Alice!\"\n",
       "```\n",
       "\n",
       "在這個例子中，`greet` 是一個函式，它接受一個參數 `name`，然後在輸出中顯示「Hello, Alice！」。\n",
       "\n",
       "**總之，函式是 Python 程式碼中很重要的組成部分，它們讓你可以在程式中做重複性的任務，讓程式更易於使用和維護。**\n",
       "\n",
       "希望這個解釋對你有幫助！\n"
      ],
      "text/plain": [
       "<IPython.core.display.Markdown object>"
      ]
     },
     "metadata": {},
     "output_type": "display_data"
    }
   ],
   "source": [
    "import requests\n",
    "from IPython.display import display, Markdown\n",
    "\n",
    "url = \"http://localhost:11434/api/generate\"\n",
    "response = requests.post(url, json={\n",
    "    \"model\": \"gemma3:1b\",\n",
    "    \"prompt\": \"請用簡單的方式解釋什麼是Python的函式？\",\n",
    "    \"stream\": False\n",
    "})\n",
    "if response.status_code == 200:\n",
    "    print(\"連線成功\")\n",
    "    result = response.json()\n",
    "    print(result['response'])\n",
    "    display(Markdown(result['response']))\n",
    "else:\n",
    "    print(\"連線失敗\")\n",
    "    print(\"原因\", response.status_code)"
   ]
  },
  {
   "cell_type": "code",
   "execution_count": 29,
   "id": "b1a61033",
   "metadata": {},
   "outputs": [
    {
     "name": "stdout",
     "output_type": "stream",
     "text": [
      "TW\n",
      "HK\n",
      "JP\n",
      "Taiwan\n",
      "Hong Kong\n",
      "Japan\n",
      "Taiwan TW\n",
      "Hong Kong HK\n",
      "Japan JP\n"
     ]
    }
   ],
   "source": [
    "codes = {\n",
    "    \"TW\":\"Taiwan\",\n",
    "    \"HK\":\"Hong Kong\",\n",
    "    \"JP\":\"Japan\"\n",
    "}\n",
    "codes[\"TW\"]\n",
    "codes[\"HK\"]\n",
    "codes[\"JP\"]\n",
    "codes.keys()\n",
    "for item in codes.keys():\n",
    "    print(item)\n",
    "\n",
    "for value in codes.values():\n",
    "    print(value)\n",
    "\n",
    "for (code,name) in codes.items():\n",
    "    print(name, code)"
   ]
  }
 ],
 "metadata": {
  "kernelspec": {
   "display_name": "line_bot",
   "language": "python",
   "name": "python3"
  },
  "language_info": {
   "codemirror_mode": {
    "name": "ipython",
    "version": 3
   },
   "file_extension": ".py",
   "mimetype": "text/x-python",
   "name": "python",
   "nbconvert_exporter": "python",
   "pygments_lexer": "ipython3",
   "version": "3.12.11"
  }
 },
 "nbformat": 4,
 "nbformat_minor": 5
}

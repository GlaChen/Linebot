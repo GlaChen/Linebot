{
 "cells": [
  {
   "cell_type": "markdown",
   "id": "bf70069f",
   "metadata": {},
   "source": [
    "- ### 變數,List,dict\n",
    "- ### 判斷,迴圈\n",
    "- ### function\n",
    "- ### 內建function,內建的module,外部的module\n",
    "- ### 什麼是實體"
   ]
  },
  {
   "cell_type": "code",
   "execution_count": 1,
   "id": "77aa2ac2",
   "metadata": {},
   "outputs": [
    {
     "data": {
      "text/plain": [
       "('Alice', 25, 165.5, True)"
      ]
     },
     "execution_count": 1,
     "metadata": {},
     "output_type": "execute_result"
    }
   ],
   "source": [
    "# 變數 (Variable)\n",
    "name = \"Alice\"       # 字串變數\n",
    "age = 25             # 整數變數\n",
    "height = 165.5       # 浮點數變數\n",
    "is_student = True    # 布林值變數\n",
    "\n",
    "name, age, height, is_student   #這是tuple"
   ]
  },
  {
   "cell_type": "code",
   "execution_count": 2,
   "id": "f5d72e2a",
   "metadata": {},
   "outputs": [
    {
     "name": "stdout",
     "output_type": "stream",
     "text": [
      "fruits清單: ['apple', 'banana', 'cherry']\n",
      "fruits類型: <class 'list'>\n",
      "取fruits清單中第一個元素: apple\n",
      "新增元素後fruits清單: ['apple', 'banana', 'cherry', 'orange']\n",
      "反轉清單後fruits清單: ['orange', 'cherry', 'banana', 'apple']\n"
     ]
    }
   ],
   "source": [
    "# list（串列）：可存放多個有序元素\n",
    "fruits = [\"apple\", \"banana\", \"cherry\"]\n",
    "print(\"fruits清單:\",fruits)\n",
    "print(\"fruits類型:\",type(fruits))           # 輸出整個串列\n",
    "print(\"取fruits清單中第一個元素:\",fruits[0])        # 取得第1個元素 \"apple\"\n",
    "fruits.append(\"orange\") # 新增元素 \"orange\"\n",
    "print(\"新增元素後fruits清單:\",fruits)\n",
    "fruits.reverse()    #反轉清單\n",
    "print(\"反轉清單後fruits清單:\",fruits)"
   ]
  },
  {
   "cell_type": "code",
   "execution_count": null,
   "id": "8748ad21",
   "metadata": {},
   "outputs": [],
   "source": [
    "# dict（字典）：用鍵值對(key-value pair)儲存資料\n",
    "person = {\n",
    "    \"name\": \"Bob\",\n",
    "    \"age\": 30,\n",
    "    \"city\": \"Taipei\"\n",
    "}\n",
    "print(person)             # 輸出整個字典\n",
    "print(person[\"name\"])     # 取得鍵 \"name\" 對應的值 \"Bob\"\n",
    "person[\"age\"] = 31       # 修改 age 的值\n",
    "print(person)"
   ]
  }
 ],
 "metadata": {
  "kernelspec": {
   "display_name": "line_bot",
   "language": "python",
   "name": "python3"
  },
  "language_info": {
   "codemirror_mode": {
    "name": "ipython",
    "version": 3
   },
   "file_extension": ".py",
   "mimetype": "text/x-python",
   "name": "python",
   "nbconvert_exporter": "python",
   "pygments_lexer": "ipython3",
   "version": "3.12.11"
  }
 },
 "nbformat": 4,
 "nbformat_minor": 5
}

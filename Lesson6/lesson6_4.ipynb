{
 "cells": [
  {
   "cell_type": "code",
   "execution_count": null,
   "id": "82a8371f",
   "metadata": {},
   "outputs": [
    {
     "name": "stdout",
     "output_type": "stream",
     "text": [
      "<class 'dict'>\n"
     ]
    },
    {
     "data": {
      "text/markdown": [
       "我是 Gemma，一個大型語言模型，由 Google DeepMind 訓練。\n",
       "\n",
       "我是一個開放權重的 AI 助手，可以：\n",
       "\n",
       "*   **生成不同類型的文本格式**，例如詩歌、程式碼、نامه等。\n",
       "*   **回答你的問題**，即使這些問題是關於我自己的。\n",
       "*   **翻譯語言**。\n",
       "*   **總結文本**。\n",
       "\n",
       "我仍在發展中，希望我能幫助你。 😊\n",
       "\n",
       "你有什么想问我的吗？\n"
      ],
      "text/plain": [
       "<IPython.core.display.Markdown object>"
      ]
     },
     "metadata": {},
     "output_type": "display_data"
    }
   ],
   "source": [
    "import requests\n",
    "#import pprint\n",
    "from pprint import pprint\n",
    "from IPython.display import Markdown, display\n",
    "\n",
    "def generate_with_ollama(prompt:str):\n",
    "    url = \"http://localhost:11434/api/generate\"\n",
    "    payload = {\n",
    "        \"model\":\"gemma3:1b\",\n",
    "        \"prompt\":prompt,\n",
    "        \"stream\":False\n",
    "    }\n",
    "    response = requests.post(url,json=payload)\n",
    "    result = response.json()\n",
    "    print(type(result))\n",
    "    #print(result)\n",
    "    #pprint(result)\n",
    "    #pprint(result['response'])\n",
    "    display(Markdown(result['response']))\n",
    "\n",
    "generate_with_ollama(\"請用簡單的方式解釋什麼是Python的函式?\")"
   ]
  }
 ],
 "metadata": {
  "kernelspec": {
   "display_name": "line_bot",
   "language": "python",
   "name": "python3"
  },
  "language_info": {
   "codemirror_mode": {
    "name": "ipython",
    "version": 3
   },
   "file_extension": ".py",
   "mimetype": "text/x-python",
   "name": "python",
   "nbconvert_exporter": "python",
   "pygments_lexer": "ipython3",
   "version": "3.12.11"
  }
 },
 "nbformat": 4,
 "nbformat_minor": 5
}
